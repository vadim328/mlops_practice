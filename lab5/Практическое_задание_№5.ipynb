{
  "cells": [
    {
      "cell_type": "markdown",
      "source": [
        "# Библиотеки"
      ],
      "metadata": {
        "id": "GCo6z05ddLOL"
      }
    },
    {
      "cell_type": "code",
      "source": [
        "import matplotlib.pyplot as plt\n",
        "import numpy as np\n",
        "from sklearn.linear_model import LinearRegression\n",
        "import pickle"
      ],
      "metadata": {
        "id": "l2shHOAUdOd_"
      },
      "execution_count": 103,
      "outputs": []
    },
    {
      "cell_type": "markdown",
      "source": [
        "# Генерация тренировочных данных"
      ],
      "metadata": {
        "id": "JBZFIfZmf8Mb"
      }
    },
    {
      "cell_type": "code",
      "source": [
        "train_x = np.linspace(0, 5, 100)\n",
        "train_y = train_x + np.random.random(100)*2-1"
      ],
      "metadata": {
        "id": "tirrof_1dcm4"
      },
      "execution_count": 104,
      "outputs": []
    },
    {
      "cell_type": "markdown",
      "source": [
        "Посмотрим на данные"
      ],
      "metadata": {
        "id": "fU_IrlOR2bI1"
      }
    },
    {
      "cell_type": "code",
      "source": [
        "plt.scatter(train_x, train_y)\n",
        "plt.show()"
      ],
      "metadata": {
        "colab": {
          "base_uri": "https://localhost:8080/",
          "height": 430
        },
        "id": "S0ktesI6lCLj",
        "outputId": "2a4e950a-9176-448f-e13b-daaa9154ac89"
      },
      "execution_count": 105,
      "outputs": [
        {
          "output_type": "display_data",
          "data": {
            "text/plain": [
              "<Figure size 640x480 with 1 Axes>"
            ],
            "image/png": "[encoded data removed]"
          },
          "metadata": {}
        }
      ]
    },
    {
      "cell_type": "markdown",
      "source": [
        "# Обучение модели линейной регрессии"
      ],
      "metadata": {
        "id": "R5Kld2qHxe0r"
      }
    },
    {
      "cell_type": "code",
      "source": [
        "train_x = train_x.reshape(-1,1)\n",
        "train_y = train_y.reshape(-1,1)\n",
        "reg = LinearRegression().fit(train_x, train_y)\n",
        "reg.score(train_x, train_y)"
      ],
      "metadata": {
        "colab": {
          "base_uri": "https://localhost:8080/"
        },
        "id": "c0rfbkSRxjhA",
        "outputId": "3147e62d-dedd-4bef-8d38-eca12106b2d0"
      },
      "execution_count": 106,
      "outputs": [
        {
          "output_type": "execute_result",
          "data": {
            "text/plain": [
              "0.863023658546789"
            ]
          },
          "metadata": {},
          "execution_count": 106
        }
      ]
    },
    {
      "cell_type": "markdown",
      "source": [
        "Cохраним модель в файл"
      ],
      "metadata": {
        "id": "OwiMZuu-x_7W"
      }
    },
    {
      "cell_type": "code",
      "source": [
        "filename = 'model.sav'\n",
        "pickle.dump(reg, open(filename, 'wb'))"
      ],
      "metadata": {
        "id": "tnwVnhP5yDJ1"
      },
      "execution_count": 107,
      "outputs": []
    },
    {
      "cell_type": "markdown",
      "source": [
        "# Тестирование обученной модели с помощью pytest"
      ],
      "metadata": {
        "id": "JFreS1FCyUMH"
      }
    },
    {
      "cell_type": "code",
      "source": [
        "%%writefile test.py\n",
        "import pickle\n",
        "import numpy as np\n",
        "from sklearn.linear_model import LinearRegression\n",
        "\n",
        "# Загрузка обученной модели\n",
        "filename = 'model.sav'\n",
        "model = pickle.load(open(filename, 'rb'))\n",
        "\n",
        "def test_one():\n",
        "  # Первый тестовый набор данных\n",
        "  test_x_1 = np.linspace(0, 15, 100)\n",
        "  test_y_1 = test_x_1 + np.random.random(100)*3-2\n",
        "  test_x_1 = test_x_1.reshape(-1,1)\n",
        "  test_y_1 = test_y_1.reshape(-1,1)\n",
        "  assert model.score(test_x_1, test_y_1) > 0.5, \"Низкий уровень предсказания!\"\n",
        "\n",
        "def test_two():\n",
        "  # Второй тестовый набор данных\n",
        "  test_x_2 = np.linspace(0, 10, 100)\n",
        "  test_y_2 = test_x_2 + np.random.random(100)*4-3\n",
        "  test_x_2 = test_x_2.reshape(-1,1)\n",
        "  test_y_2 = test_y_2.reshape(-1,1)\n",
        "  assert model.score(test_x_2, test_y_2) > 0.5, \"Низкий уровень предсказания!\"\n",
        "\n",
        "def test_three():\n",
        "  # Шумовой набор данных\n",
        "  noise_data_x = np.linspace(0, 15, 100)\n",
        "  noise_data_y = noise_data_x + np.random.random(100)*3-1\n",
        "  noise_data_y[25:45] *= -2\n",
        "  noise_data_x = noise_data_x.reshape(-1,1)\n",
        "  noise_data_y = noise_data_y.reshape(-1,1)\n",
        "  assert model.score(noise_data_x, noise_data_y) > 0.5, \"Низкий уровень предсказания!\"\n"
      ],
      "metadata": {
        "colab": {
          "base_uri": "https://localhost:8080/"
        },
        "outputId": "10c0413c-e8d2-4f26-a3cd-7c008b887d2b",
        "id": "_a3RlRF8fBzK"
      },
      "execution_count": 109,
      "outputs": [
        {
          "output_type": "stream",
          "name": "stdout",
          "text": [
            "Overwriting test.py\n"
          ]
        }
      ]
    },
    {
      "cell_type": "code",
      "source": [
        "!pytest test.py"
      ],
      "metadata": {
        "colab": {
          "base_uri": "https://localhost:8080/"
        },
        "id": "KuHu6HZc0fVs",
        "outputId": "06576f2f-4bb9-470d-b3f8-0e883301565c"
      },
      "execution_count": 110,
      "outputs": [
        {
          "output_type": "stream",
          "name": "stdout",
          "text": [
            "\u001b[1m============================= test session starts ==============================\u001b[0m\n",
            "platform linux -- Python 3.10.12, pytest-7.4.0, pluggy-1.2.0\n",
            "rootdir: /content\n",
            "plugins: anyio-3.7.1\n",
            "collected 3 items                                                              \u001b[0m\n",
            "\n",
            "test.py \u001b[32m.\u001b[0m\u001b[32m.\u001b[0m\u001b[31mF\u001b[0m\u001b[31m                                                              [100%]\u001b[0m\n",
            "\n",
            "=================================== FAILURES ===================================\n",
            "\u001b[31m\u001b[1m__________________________________ test_three __________________________________\u001b[0m\n",
            "\n",
            "    \u001b[94mdef\u001b[39;49;00m \u001b[92mtest_three\u001b[39;49;00m():\u001b[90m\u001b[39;49;00m\n",
            "      \u001b[90m# Шумовой набор данных\u001b[39;49;00m\u001b[90m\u001b[39;49;00m\n",
            "      noise_data_x = np.linspace(\u001b[94m0\u001b[39;49;00m, \u001b[94m15\u001b[39;49;00m, \u001b[94m100\u001b[39;49;00m)\u001b[90m\u001b[39;49;00m\n",
            "      noise_data_y = noise_data_x + np.random.random(\u001b[94m100\u001b[39;49;00m)*\u001b[94m3\u001b[39;49;00m-\u001b[94m1\u001b[39;49;00m\u001b[90m\u001b[39;49;00m\n",
            "      noise_data_y[\u001b[94m25\u001b[39;49;00m:\u001b[94m45\u001b[39;49;00m] *= -\u001b[94m2\u001b[39;49;00m\u001b[90m\u001b[39;49;00m\n",
            "      noise_data_x = noise_data_x.reshape(-\u001b[94m1\u001b[39;49;00m,\u001b[94m1\u001b[39;49;00m)\u001b[90m\u001b[39;49;00m\n",
            "      noise_data_y = noise_data_y.reshape(-\u001b[94m1\u001b[39;49;00m,\u001b[94m1\u001b[39;49;00m)\u001b[90m\u001b[39;49;00m\n",
            ">     \u001b[94massert\u001b[39;49;00m model.score(noise_data_x, noise_data_y) > \u001b[94m0.5\u001b[39;49;00m, \u001b[33m\"\u001b[39;49;00m\u001b[33mНизкий уровень предсказания!\u001b[39;49;00m\u001b[33m\"\u001b[39;49;00m\u001b[90m\u001b[39;49;00m\n",
            "\u001b[1m\u001b[31mE     AssertionError: Низкий уровень предсказания!\u001b[0m\n",
            "\u001b[1m\u001b[31mE     assert 0.31183572137518556 > 0.5\u001b[0m\n",
            "\u001b[1m\u001b[31mE      +  where 0.31183572137518556 = <bound method RegressorMixin.score of LinearRegression()>(array([[ 0.        ],\\n       [ 0.15151515],\\n       [ 0.3030303 ],\\n       [ 0.45454545],\\n       [ 0.60606061],\\n       [...242424],\\n       [14.39393939],\\n       [14.54545455],\\n       [14.6969697 ],\\n       [14.84848485],\\n       [15.        ]]), array([[  1.35197407],\\n       [  1.70704238],\\n       [ -0.03166184],\\n       [  2.19235083],\\n       [  2.18418741],\\n   ...7],\\n       [ 13.97967915],\\n       [ 16.47492707],\\n       [ 15.94647783],\\n       [ 15.2177882 ],\\n       [ 16.78407177]]))\u001b[0m\n",
            "\u001b[1m\u001b[31mE      +    where <bound method RegressorMixin.score of LinearRegression()> = LinearRegression().score\u001b[0m\n",
            "\n",
            "\u001b[1m\u001b[31mtest.py\u001b[0m:32: AssertionError\n",
            "\u001b[36m\u001b[1m=========================== short test summary info ============================\u001b[0m\n",
            "\u001b[31mFAILED\u001b[0m test.py::\u001b[1mtest_three\u001b[0m - AssertionError: Низкий уровень предсказания!\n",
            "\u001b[31m========================= \u001b[31m\u001b[1m1 failed\u001b[0m, \u001b[32m2 passed\u001b[0m\u001b[31m in 0.82s\u001b[0m\u001b[31m ==========================\u001b[0m\n"
          ]
        }
      ]
    },
    {
      "cell_type": "markdown",
      "source": [
        "Третий тест с шумовыми данными провалился, в данном случае уровень предсказания был ниже установленной нормы."
      ],
      "metadata": {
        "id": "TcOHUfZA2v31"
      }
    }
  ],
  "metadata": {
    "colab": {
      "provenance": []
    },
    "kernelspec": {
      "display_name": "Python 3",
      "language": "python",
      "name": "python3"
    },
    "language_info": {
      "codemirror_mode": {
        "name": "ipython",
        "version": 3
      },
      "file_extension": ".py",
      "mimetype": "text/x-python",
      "name": "python",
      "nbconvert_exporter": "python",
      "pygments_lexer": "ipython3",
      "version": "3.7.4"
    },
    "toc": {
      "base_numbering": 1,
      "nav_menu": {},
      "number_sections": true,
      "sideBar": true,
      "skip_h1_title": false,
      "title_cell": "Table of Contents",
      "title_sidebar": "Contents",
      "toc_cell": false,
      "toc_position": {
        "height": "calc(100% - 180px)",
        "left": "10px",
        "top": "150px",
        "width": "165px"
      },
      "toc_section_display": true,
      "toc_window_display": true
    }
  },
  "nbformat": 4,
  "nbformat_minor": 0
}